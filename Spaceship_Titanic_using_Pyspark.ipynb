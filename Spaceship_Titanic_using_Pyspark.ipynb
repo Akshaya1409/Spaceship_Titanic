{
  "nbformat": 4,
  "nbformat_minor": 0,
  "metadata": {
    "colab": {
      "name": "Spaceship Titanic using Pyspark.ipynb",
      "provenance": [],
      "collapsed_sections": []
    },
    "kernelspec": {
      "name": "python3",
      "display_name": "Python 3"
    },
    "language_info": {
      "name": "python"
    }
  },
  "cells": [
    {
      "cell_type": "markdown",
      "source": [
        " # **Spaceship Titanic**\n",
        "\n",
        "---\n",
        "To predict whether a passenger was transported to an alternate dimension during the Spaceship Titanic's collision using Pyspark.\n",
        "\n",
        "\n",
        "Link to the problem statement : [Spaceship Titanic](https://https://www.kaggle.com/competitions/spaceship-titanic/data)\n",
        "\n",
        "The dataset has the following attributes\n",
        "\n",
        " 1. PassengerId - A unique Id for each passenger. \n",
        " 2. HomePlanet - The planet the passenger departed from\n",
        " 3. CryoSleep - Indicates whether the passenger elected to be put into suspended animation for the duration of the voyage.\n",
        " 4. Cabin - The cabin number where the passenger is staying. \n",
        " 5. Destination - The planet the passenger will be debarking to.\n",
        " 6. Age - The age of the passenger.\n",
        " 7.  VIP - Whether the passenger has paid for special VIP service during the voyage.\n",
        " 8. RoomService, FoodCourt, ShoppingMall, Spa, VRDeck - Amount the passenger has billed at each of the Spaceship Titanic's many luxury amenities.\n",
        " 9. Name - The first and last names of the passenger.\n",
        " 10. Transported - Whether the passenger was transported to another dimension. This is the target, the column we are trying to predict.\n",
        "\n"
      ],
      "metadata": {
        "id": "cLClo0Ntq0vA"
      }
    },
    {
      "cell_type": "markdown",
      "source": [
        "## **Reading the dataset**\n",
        "\n",
        "Before reading the dataset,all the important libraries are imported"
      ],
      "metadata": {
        "id": "MKIEiCOAsQEP"
      }
    },
    {
      "cell_type": "code",
      "execution_count": null,
      "metadata": {
        "id": "x8y427R4XTj-"
      },
      "outputs": [],
      "source": [
        "import numpy as np\n",
        "import pandas as pd\n",
        "import seaborn as sns\n",
        "\n",
        "from sklearn.model_selection import train_test_split\n",
        "from sklearn import metrics\n",
        "import matplotlib.pyplot as plt"
      ]
    },
    {
      "cell_type": "code",
      "source": [
        "#Reading the Train.csv dataset\n",
        "df=pd.read_csv('/content/crashsurvival.csv')\n",
        "# After reading the dataset, let’s check its top 5 rows using head() method to just see how the data looks.\n",
        "df.head()"
      ],
      "metadata": {
        "colab": {
          "base_uri": "https://localhost:8080/",
          "height": 206
        },
        "id": "9FB87royXhmL",
        "outputId": "2e53be87-0a7d-4ccc-e16a-23861266b0a5"
      },
      "execution_count": null,
      "outputs": [
        {
          "output_type": "execute_result",
          "data": {
            "text/plain": [
              "  PassengerId HomePlanet CryoSleep  Cabin  Destination   Age    VIP  \\\n",
              "0     0001_01     Europa     False  B/0/P  TRAPPIST-1e  39.0  False   \n",
              "1     0002_01      Earth     False  F/0/S  TRAPPIST-1e  24.0  False   \n",
              "2     0003_01     Europa     False  A/0/S  TRAPPIST-1e  58.0   True   \n",
              "3     0003_02     Europa     False  A/0/S  TRAPPIST-1e  33.0  False   \n",
              "4     0004_01      Earth     False  F/1/S  TRAPPIST-1e  16.0  False   \n",
              "\n",
              "   RoomService  FoodCourt  ShoppingMall     Spa  VRDeck               Name  \\\n",
              "0          0.0        0.0           0.0     0.0     0.0    Maham Ofracculy   \n",
              "1        109.0        9.0          25.0   549.0    44.0       Juanna Vines   \n",
              "2         43.0     3576.0           0.0  6715.0    49.0      Altark Susent   \n",
              "3          0.0     1283.0         371.0  3329.0   193.0       Solam Susent   \n",
              "4        303.0       70.0         151.0   565.0     2.0  Willy Santantines   \n",
              "\n",
              "   Transported  \n",
              "0        False  \n",
              "1         True  \n",
              "2        False  \n",
              "3        False  \n",
              "4         True  "
            ],
            "text/html": [
              "\n",
              "  <div id=\"df-a93ecc09-04bf-4027-a619-8bee0ce5e31c\">\n",
              "    <div class=\"colab-df-container\">\n",
              "      <div>\n",
              "<style scoped>\n",
              "    .dataframe tbody tr th:only-of-type {\n",
              "        vertical-align: middle;\n",
              "    }\n",
              "\n",
              "    .dataframe tbody tr th {\n",
              "        vertical-align: top;\n",
              "    }\n",
              "\n",
              "    .dataframe thead th {\n",
              "        text-align: right;\n",
              "    }\n",
              "</style>\n",
              "<table border=\"1\" class=\"dataframe\">\n",
              "  <thead>\n",
              "    <tr style=\"text-align: right;\">\n",
              "      <th></th>\n",
              "      <th>PassengerId</th>\n",
              "      <th>HomePlanet</th>\n",
              "      <th>CryoSleep</th>\n",
              "      <th>Cabin</th>\n",
              "      <th>Destination</th>\n",
              "      <th>Age</th>\n",
              "      <th>VIP</th>\n",
              "      <th>RoomService</th>\n",
              "      <th>FoodCourt</th>\n",
              "      <th>ShoppingMall</th>\n",
              "      <th>Spa</th>\n",
              "      <th>VRDeck</th>\n",
              "      <th>Name</th>\n",
              "      <th>Transported</th>\n",
              "    </tr>\n",
              "  </thead>\n",
              "  <tbody>\n",
              "    <tr>\n",
              "      <th>0</th>\n",
              "      <td>0001_01</td>\n",
              "      <td>Europa</td>\n",
              "      <td>False</td>\n",
              "      <td>B/0/P</td>\n",
              "      <td>TRAPPIST-1e</td>\n",
              "      <td>39.0</td>\n",
              "      <td>False</td>\n",
              "      <td>0.0</td>\n",
              "      <td>0.0</td>\n",
              "      <td>0.0</td>\n",
              "      <td>0.0</td>\n",
              "      <td>0.0</td>\n",
              "      <td>Maham Ofracculy</td>\n",
              "      <td>False</td>\n",
              "    </tr>\n",
              "    <tr>\n",
              "      <th>1</th>\n",
              "      <td>0002_01</td>\n",
              "      <td>Earth</td>\n",
              "      <td>False</td>\n",
              "      <td>F/0/S</td>\n",
              "      <td>TRAPPIST-1e</td>\n",
              "      <td>24.0</td>\n",
              "      <td>False</td>\n",
              "      <td>109.0</td>\n",
              "      <td>9.0</td>\n",
              "      <td>25.0</td>\n",
              "      <td>549.0</td>\n",
              "      <td>44.0</td>\n",
              "      <td>Juanna Vines</td>\n",
              "      <td>True</td>\n",
              "    </tr>\n",
              "    <tr>\n",
              "      <th>2</th>\n",
              "      <td>0003_01</td>\n",
              "      <td>Europa</td>\n",
              "      <td>False</td>\n",
              "      <td>A/0/S</td>\n",
              "      <td>TRAPPIST-1e</td>\n",
              "      <td>58.0</td>\n",
              "      <td>True</td>\n",
              "      <td>43.0</td>\n",
              "      <td>3576.0</td>\n",
              "      <td>0.0</td>\n",
              "      <td>6715.0</td>\n",
              "      <td>49.0</td>\n",
              "      <td>Altark Susent</td>\n",
              "      <td>False</td>\n",
              "    </tr>\n",
              "    <tr>\n",
              "      <th>3</th>\n",
              "      <td>0003_02</td>\n",
              "      <td>Europa</td>\n",
              "      <td>False</td>\n",
              "      <td>A/0/S</td>\n",
              "      <td>TRAPPIST-1e</td>\n",
              "      <td>33.0</td>\n",
              "      <td>False</td>\n",
              "      <td>0.0</td>\n",
              "      <td>1283.0</td>\n",
              "      <td>371.0</td>\n",
              "      <td>3329.0</td>\n",
              "      <td>193.0</td>\n",
              "      <td>Solam Susent</td>\n",
              "      <td>False</td>\n",
              "    </tr>\n",
              "    <tr>\n",
              "      <th>4</th>\n",
              "      <td>0004_01</td>\n",
              "      <td>Earth</td>\n",
              "      <td>False</td>\n",
              "      <td>F/1/S</td>\n",
              "      <td>TRAPPIST-1e</td>\n",
              "      <td>16.0</td>\n",
              "      <td>False</td>\n",
              "      <td>303.0</td>\n",
              "      <td>70.0</td>\n",
              "      <td>151.0</td>\n",
              "      <td>565.0</td>\n",
              "      <td>2.0</td>\n",
              "      <td>Willy Santantines</td>\n",
              "      <td>True</td>\n",
              "    </tr>\n",
              "  </tbody>\n",
              "</table>\n",
              "</div>\n",
              "      <button class=\"colab-df-convert\" onclick=\"convertToInteractive('df-a93ecc09-04bf-4027-a619-8bee0ce5e31c')\"\n",
              "              title=\"Convert this dataframe to an interactive table.\"\n",
              "              style=\"display:none;\">\n",
              "        \n",
              "  <svg xmlns=\"http://www.w3.org/2000/svg\" height=\"24px\"viewBox=\"0 0 24 24\"\n",
              "       width=\"24px\">\n",
              "    <path d=\"M0 0h24v24H0V0z\" fill=\"none\"/>\n",
              "    <path d=\"M18.56 5.44l.94 2.06.94-2.06 2.06-.94-2.06-.94-.94-2.06-.94 2.06-2.06.94zm-11 1L8.5 8.5l.94-2.06 2.06-.94-2.06-.94L8.5 2.5l-.94 2.06-2.06.94zm10 10l.94 2.06.94-2.06 2.06-.94-2.06-.94-.94-2.06-.94 2.06-2.06.94z\"/><path d=\"M17.41 7.96l-1.37-1.37c-.4-.4-.92-.59-1.43-.59-.52 0-1.04.2-1.43.59L10.3 9.45l-7.72 7.72c-.78.78-.78 2.05 0 2.83L4 21.41c.39.39.9.59 1.41.59.51 0 1.02-.2 1.41-.59l7.78-7.78 2.81-2.81c.8-.78.8-2.07 0-2.86zM5.41 20L4 18.59l7.72-7.72 1.47 1.35L5.41 20z\"/>\n",
              "  </svg>\n",
              "      </button>\n",
              "      \n",
              "  <style>\n",
              "    .colab-df-container {\n",
              "      display:flex;\n",
              "      flex-wrap:wrap;\n",
              "      gap: 12px;\n",
              "    }\n",
              "\n",
              "    .colab-df-convert {\n",
              "      background-color: #E8F0FE;\n",
              "      border: none;\n",
              "      border-radius: 50%;\n",
              "      cursor: pointer;\n",
              "      display: none;\n",
              "      fill: #1967D2;\n",
              "      height: 32px;\n",
              "      padding: 0 0 0 0;\n",
              "      width: 32px;\n",
              "    }\n",
              "\n",
              "    .colab-df-convert:hover {\n",
              "      background-color: #E2EBFA;\n",
              "      box-shadow: 0px 1px 2px rgba(60, 64, 67, 0.3), 0px 1px 3px 1px rgba(60, 64, 67, 0.15);\n",
              "      fill: #174EA6;\n",
              "    }\n",
              "\n",
              "    [theme=dark] .colab-df-convert {\n",
              "      background-color: #3B4455;\n",
              "      fill: #D2E3FC;\n",
              "    }\n",
              "\n",
              "    [theme=dark] .colab-df-convert:hover {\n",
              "      background-color: #434B5C;\n",
              "      box-shadow: 0px 1px 3px 1px rgba(0, 0, 0, 0.15);\n",
              "      filter: drop-shadow(0px 1px 2px rgba(0, 0, 0, 0.3));\n",
              "      fill: #FFFFFF;\n",
              "    }\n",
              "  </style>\n",
              "\n",
              "      <script>\n",
              "        const buttonEl =\n",
              "          document.querySelector('#df-a93ecc09-04bf-4027-a619-8bee0ce5e31c button.colab-df-convert');\n",
              "        buttonEl.style.display =\n",
              "          google.colab.kernel.accessAllowed ? 'block' : 'none';\n",
              "\n",
              "        async function convertToInteractive(key) {\n",
              "          const element = document.querySelector('#df-a93ecc09-04bf-4027-a619-8bee0ce5e31c');\n",
              "          const dataTable =\n",
              "            await google.colab.kernel.invokeFunction('convertToInteractive',\n",
              "                                                     [key], {});\n",
              "          if (!dataTable) return;\n",
              "\n",
              "          const docLinkHtml = 'Like what you see? Visit the ' +\n",
              "            '<a target=\"_blank\" href=https://colab.research.google.com/notebooks/data_table.ipynb>data table notebook</a>'\n",
              "            + ' to learn more about interactive tables.';\n",
              "          element.innerHTML = '';\n",
              "          dataTable['output_type'] = 'display_data';\n",
              "          await google.colab.output.renderOutput(dataTable, element);\n",
              "          const docLink = document.createElement('div');\n",
              "          docLink.innerHTML = docLinkHtml;\n",
              "          element.appendChild(docLink);\n",
              "        }\n",
              "      </script>\n",
              "    </div>\n",
              "  </div>\n",
              "  "
            ]
          },
          "metadata": {},
          "execution_count": 2
        }
      ]
    },
    {
      "cell_type": "code",
      "source": [
        "# Checking the shape of the dataset\n",
        "df.shape"
      ],
      "metadata": {
        "colab": {
          "base_uri": "https://localhost:8080/"
        },
        "id": "rhGEFtHIZ1Sr",
        "outputId": "452d9d94-2286-4315-9908-78879590642e"
      },
      "execution_count": null,
      "outputs": [
        {
          "output_type": "execute_result",
          "data": {
            "text/plain": [
              "(8693, 14)"
            ]
          },
          "metadata": {},
          "execution_count": 3
        }
      ]
    },
    {
      "cell_type": "code",
      "source": [
        "df.isnull().sum()"
      ],
      "metadata": {
        "colab": {
          "base_uri": "https://localhost:8080/"
        },
        "id": "RqqkaNl_Zyzr",
        "outputId": "1cdf59c5-a8f1-4f07-87e5-a2c270cdfb29"
      },
      "execution_count": null,
      "outputs": [
        {
          "output_type": "execute_result",
          "data": {
            "text/plain": [
              "PassengerId       0\n",
              "HomePlanet      201\n",
              "CryoSleep       217\n",
              "Cabin           199\n",
              "Destination     182\n",
              "Age             179\n",
              "VIP             203\n",
              "RoomService     181\n",
              "FoodCourt       183\n",
              "ShoppingMall    208\n",
              "Spa             183\n",
              "VRDeck          188\n",
              "Name            200\n",
              "Transported       0\n",
              "dtype: int64"
            ]
          },
          "metadata": {},
          "execution_count": 4
        }
      ]
    },
    {
      "cell_type": "code",
      "source": [
        "#checking for the distribution of samples in the dataset\n",
        "sns.countplot(x='Transported',data=df,palette='crest')"
      ],
      "metadata": {
        "colab": {
          "base_uri": "https://localhost:8080/",
          "height": 296
        },
        "id": "mFiedvn33ldR",
        "outputId": "294302f0-d1fa-4ca4-e44c-ebfb5cb5b628"
      },
      "execution_count": null,
      "outputs": [
        {
          "output_type": "execute_result",
          "data": {
            "text/plain": [
              "<matplotlib.axes._subplots.AxesSubplot at 0x7f92b7490e90>"
            ]
          },
          "metadata": {},
          "execution_count": 70
        },
        {
          "output_type": "display_data",
          "data": {
            "text/plain": [
              "<Figure size 432x288 with 1 Axes>"
            ],
            "image/png": "[encoded data removed]"
          },
          "metadata": {
            "needs_background": "light"
          }
        }
      ]
    },
    {
      "cell_type": "markdown",
      "source": [
        "From the above plot,it is clear that samples are equally distributed and there is no need for upsampling or downsampling techniques"
      ],
      "metadata": {
        "id": "h6TyNqH4svQI"
      }
    },
    {
      "cell_type": "code",
      "source": [
        "df.dtypes"
      ],
      "metadata": {
        "colab": {
          "base_uri": "https://localhost:8080/"
        },
        "id": "b0SEbw4DZ9H0",
        "outputId": "2c33d3e3-894c-4ce5-ec7e-27a19ed67eba"
      },
      "execution_count": null,
      "outputs": [
        {
          "output_type": "execute_result",
          "data": {
            "text/plain": [
              "PassengerId      object\n",
              "HomePlanet       object\n",
              "CryoSleep        object\n",
              "Cabin            object\n",
              "Destination      object\n",
              "Age             float64\n",
              "VIP              object\n",
              "RoomService     float64\n",
              "FoodCourt       float64\n",
              "ShoppingMall    float64\n",
              "Spa             float64\n",
              "VRDeck          float64\n",
              "Name             object\n",
              "Transported        bool\n",
              "dtype: object"
            ]
          },
          "metadata": {},
          "execution_count": 5
        }
      ]
    },
    {
      "cell_type": "code",
      "source": [
        "df['Cabin']=df['Cabin'].str[0]"
      ],
      "metadata": {
        "id": "xek2vdkyy-Qh"
      },
      "execution_count": null,
      "outputs": []
    },
    {
      "cell_type": "markdown",
      "source": [
        "## Handling Missing values \n",
        "Let us replace the missing values in every attribute"
      ],
      "metadata": {
        "id": "KdeYysI4s-yQ"
      }
    },
    {
      "cell_type": "code",
      "source": [
        "mean_value=df['RoomService'].mean()\n",
        "df['RoomService'].fillna(value=mean_value,inplace=True)"
      ],
      "metadata": {
        "id": "jK8T8aCSZ4SL"
      },
      "execution_count": null,
      "outputs": []
    },
    {
      "cell_type": "code",
      "source": [
        "mean_value=df['FoodCourt'].mean()\n",
        "df['FoodCourt'].fillna(value=mean_value,inplace=True)"
      ],
      "metadata": {
        "id": "RMU1Q4HHaRhC"
      },
      "execution_count": null,
      "outputs": []
    },
    {
      "cell_type": "code",
      "source": [
        "mean_value=df['ShoppingMall'].mean()\n",
        "df['ShoppingMall'].fillna(value=mean_value,inplace=True)"
      ],
      "metadata": {
        "id": "x2PHjc9paWnL"
      },
      "execution_count": null,
      "outputs": []
    },
    {
      "cell_type": "code",
      "source": [
        "mean_value=df['Spa'].mean()\n",
        "df['Spa'].fillna(value=mean_value,inplace=True)"
      ],
      "metadata": {
        "id": "m0jyHsT-afJS"
      },
      "execution_count": null,
      "outputs": []
    },
    {
      "cell_type": "code",
      "source": [
        "mean_value=df['VRDeck'].mean()\n",
        "df['VRDeck'].fillna(value=mean_value,inplace=True)"
      ],
      "metadata": {
        "id": "yJJZCZcral4L"
      },
      "execution_count": null,
      "outputs": []
    },
    {
      "cell_type": "code",
      "source": [
        "mead_value=df['Age'].median()\n",
        "df['Age'].fillna(value=mead_value,inplace=True)"
      ],
      "metadata": {
        "id": "-vip-HVObNOK"
      },
      "execution_count": null,
      "outputs": []
    },
    {
      "cell_type": "code",
      "source": [
        "df.isnull().sum()"
      ],
      "metadata": {
        "colab": {
          "base_uri": "https://localhost:8080/"
        },
        "id": "yWWadTJYav1i",
        "outputId": "02d6d8bb-35ff-4e40-891d-0fc7eb1602a7"
      },
      "execution_count": null,
      "outputs": [
        {
          "output_type": "execute_result",
          "data": {
            "text/plain": [
              "PassengerId       0\n",
              "HomePlanet      201\n",
              "CryoSleep       217\n",
              "Cabin           199\n",
              "Destination     182\n",
              "Age               0\n",
              "VIP             203\n",
              "RoomService       0\n",
              "FoodCourt         0\n",
              "ShoppingMall      0\n",
              "Spa               0\n",
              "VRDeck            0\n",
              "Name            200\n",
              "Transported       0\n",
              "dtype: int64"
            ]
          },
          "metadata": {},
          "execution_count": 13
        }
      ]
    },
    {
      "cell_type": "code",
      "source": [
        "df.drop('Name', inplace=True, axis=1)  #dropping name as it is not relavant to the prediction"
      ],
      "metadata": {
        "id": "MoTqErUJbX1S"
      },
      "execution_count": null,
      "outputs": []
    },
    {
      "cell_type": "code",
      "source": [
        "df=df.fillna(df.mode().iloc[0])"
      ],
      "metadata": {
        "id": "Ifw0fgZPbeVS"
      },
      "execution_count": null,
      "outputs": []
    },
    {
      "cell_type": "code",
      "source": [
        "df.isnull().sum()"
      ],
      "metadata": {
        "colab": {
          "base_uri": "https://localhost:8080/"
        },
        "id": "TZOndN_jzUb_",
        "outputId": "39a666ce-3f11-4bbc-a055-4eebff7e5788"
      },
      "execution_count": null,
      "outputs": [
        {
          "output_type": "execute_result",
          "data": {
            "text/plain": [
              "PassengerId     0\n",
              "HomePlanet      0\n",
              "CryoSleep       0\n",
              "Cabin           0\n",
              "Destination     0\n",
              "Age             0\n",
              "VIP             0\n",
              "RoomService     0\n",
              "FoodCourt       0\n",
              "ShoppingMall    0\n",
              "Spa             0\n",
              "VRDeck          0\n",
              "Transported     0\n",
              "dtype: int64"
            ]
          },
          "metadata": {},
          "execution_count": 16
        }
      ]
    },
    {
      "cell_type": "code",
      "source": [
        "from sklearn import preprocessing\n",
        "\n",
        "label_encoder=preprocessing.LabelEncoder()\n",
        " \n",
        "\n",
        "df['HomePlanet']= label_encoder.fit_transform(df['HomePlanet'])"
      ],
      "metadata": {
        "id": "pJ0P5c2Ra_WA"
      },
      "execution_count": null,
      "outputs": []
    },
    {
      "cell_type": "code",
      "source": [
        "\n",
        "df['CryoSleep']= label_encoder.fit_transform(df['CryoSleep'])"
      ],
      "metadata": {
        "id": "b4VSG0CTbIdS"
      },
      "execution_count": null,
      "outputs": []
    },
    {
      "cell_type": "code",
      "source": [
        "df['Destination']= label_encoder.fit_transform(df['Destination'])"
      ],
      "metadata": {
        "id": "H0utJlUObkis"
      },
      "execution_count": null,
      "outputs": []
    },
    {
      "cell_type": "code",
      "source": [
        "df['VIP']= label_encoder.fit_transform(df['VIP'])"
      ],
      "metadata": {
        "id": "Xg7GPejRbuD9"
      },
      "execution_count": null,
      "outputs": []
    },
    {
      "cell_type": "code",
      "source": [
        "df['Cabin']= label_encoder.fit_transform(df['Cabin'])"
      ],
      "metadata": {
        "id": "CryEIXxvzXZP"
      },
      "execution_count": null,
      "outputs": []
    },
    {
      "cell_type": "code",
      "source": [
        "df['Transported']= label_encoder.fit_transform(df['Transported'])"
      ],
      "metadata": {
        "id": "b7Y5qS2B0cWO"
      },
      "execution_count": null,
      "outputs": []
    },
    {
      "cell_type": "code",
      "source": [
        "df.dtypes"
      ],
      "metadata": {
        "colab": {
          "base_uri": "https://localhost:8080/"
        },
        "id": "UFolT3xGb2CS",
        "outputId": "cd3e780c-4156-4a44-a3d7-4f8f3e2348dd"
      },
      "execution_count": null,
      "outputs": [
        {
          "output_type": "execute_result",
          "data": {
            "text/plain": [
              "PassengerId      object\n",
              "HomePlanet        int64\n",
              "CryoSleep         int64\n",
              "Cabin             int64\n",
              "Destination       int64\n",
              "Age             float64\n",
              "VIP               int64\n",
              "RoomService     float64\n",
              "FoodCourt       float64\n",
              "ShoppingMall    float64\n",
              "Spa             float64\n",
              "VRDeck          float64\n",
              "Transported       int64\n",
              "dtype: object"
            ]
          },
          "metadata": {},
          "execution_count": 23
        }
      ]
    },
    {
      "cell_type": "code",
      "source": [
        "df['Transported'] = df['Transported'].astype('category')\n"
      ],
      "metadata": {
        "id": "pJqg2A0-cH6c"
      },
      "execution_count": null,
      "outputs": []
    },
    {
      "cell_type": "code",
      "source": [
        "df.to_csv('updated1.csv',index=False)  #transferring the changes made in the dataframe to a new csv file"
      ],
      "metadata": {
        "id": "kcW4x8NOdnMq"
      },
      "execution_count": null,
      "outputs": []
    },
    {
      "cell_type": "markdown",
      "source": [
        "## **Building Model using pyspark**\n",
        "\n",
        "\n",
        "\n",
        "1.   Logistics Regression\n",
        "2.   DecisionTree Classifier\n",
        "3.   RandomForest Classifier\n",
        "4.   Gradient Boosting"
      ],
      "metadata": {
        "id": "_zY_dhTy6LuE"
      }
    },
    {
      "cell_type": "code",
      "source": [
        "pip install pyspark   #installing pyspark"
      ],
      "metadata": {
        "colab": {
          "base_uri": "https://localhost:8080/"
        },
        "id": "7-lNukOuYPWj",
        "outputId": "c4f83bd8-d250-4c49-cdaa-008871878b27"
      },
      "execution_count": null,
      "outputs": [
        {
          "output_type": "stream",
          "name": "stdout",
          "text": [
            "Requirement already satisfied: pyspark in /usr/local/lib/python3.7/dist-packages (3.2.1)\n",
            "Requirement already satisfied: py4j==0.10.9.3 in /usr/local/lib/python3.7/dist-packages (from pyspark) (0.10.9.3)\n"
          ]
        }
      ]
    },
    {
      "cell_type": "code",
      "source": [
        "import pyspark\n",
        "from pyspark import SparkConf, SparkContext, SQLContext\n",
        "from pyspark.sql import SparkSession\n",
        "from pyspark.sql.functions import udf # @udf(\"integer\") def myfunc(x,y): return x - y\n",
        "from pyspark.sql import functions as F # stddev format_number date_format, dayofyear, when\n",
        "from pyspark.sql.types import StructField, StringType, IntegerType, StructType\n",
        "\n",
        "print([(x.__name__,x.__version__) for x in [np, pd, pyspark]])\n",
        "\n",
        "spark = pyspark.sql.SparkSession.builder.appName('crash_survival_prediction').getOrCreate()\n",
        "sc = spark.sparkContext\n",
        "sqlContext = SQLContext(sc)\n",
        "sc.setLogLevel(\"INFO\")"
      ],
      "metadata": {
        "colab": {
          "base_uri": "https://localhost:8080/"
        },
        "id": "aMpltHrjYmlL",
        "outputId": "0ff300be-74a2-4d6d-ed1c-65b33e2b8a65"
      },
      "execution_count": null,
      "outputs": [
        {
          "output_type": "stream",
          "name": "stdout",
          "text": [
            "[('numpy', '1.21.6'), ('pandas', '1.3.5'), ('pyspark', '3.2.1')]\n"
          ]
        },
        {
          "output_type": "stream",
          "name": "stderr",
          "text": [
            "/usr/local/lib/python3.7/dist-packages/pyspark/sql/context.py:79: FutureWarning: Deprecated in 3.0.0. Use SparkSession.builder.getOrCreate() instead.\n",
            "  FutureWarning\n"
          ]
        }
      ]
    },
    {
      "cell_type": "code",
      "source": [
        "df1 = spark.read.csv('/content/updated1.csv',header=True,inferSchema=True)\n",
        "print(df1.count())\n",
        "df1.show()"
      ],
      "metadata": {
        "colab": {
          "base_uri": "https://localhost:8080/"
        },
        "id": "yDgTc39PYtWj",
        "outputId": "fdd0bcb7-8dfd-4565-e3de-77ddc3e0c3d3"
      },
      "execution_count": null,
      "outputs": [
        {
          "output_type": "stream",
          "name": "stdout",
          "text": [
            "8693\n",
            "+-----------+----------+---------+-----+-----------+----+---+-----------+---------+------------------+------+-----------------+-----------+\n",
            "|PassengerId|HomePlanet|CryoSleep|Cabin|Destination| Age|VIP|RoomService|FoodCourt|      ShoppingMall|   Spa|           VRDeck|Transported|\n",
            "+-----------+----------+---------+-----+-----------+----+---+-----------+---------+------------------+------+-----------------+-----------+\n",
            "|    0001_01|         1|        0|    1|          2|39.0|  0|        0.0|      0.0|               0.0|   0.0|              0.0|          0|\n",
            "|    0002_01|         0|        0|    5|          2|24.0|  0|      109.0|      9.0|              25.0| 549.0|             44.0|          1|\n",
            "|    0003_01|         1|        0|    0|          2|58.0|  1|       43.0|   3576.0|               0.0|6715.0|             49.0|          0|\n",
            "|    0003_02|         1|        0|    0|          2|33.0|  0|        0.0|   1283.0|             371.0|3329.0|            193.0|          0|\n",
            "|    0004_01|         0|        0|    5|          2|16.0|  0|      303.0|     70.0|             151.0| 565.0|              2.0|          1|\n",
            "|    0005_01|         0|        0|    5|          1|44.0|  0|        0.0|    483.0|               0.0| 291.0|              0.0|          1|\n",
            "|    0006_01|         0|        0|    5|          2|26.0|  0|       42.0|   1539.0|               3.0|   0.0|              0.0|          1|\n",
            "|    0006_02|         0|        1|    6|          2|28.0|  0|        0.0|      0.0|               0.0|   0.0|304.8547912992357|          1|\n",
            "|    0007_01|         0|        0|    5|          2|35.0|  0|        0.0|    785.0|              17.0| 216.0|              0.0|          1|\n",
            "|    0008_01|         1|        1|    1|          0|14.0|  0|        0.0|      0.0|               0.0|   0.0|              0.0|          1|\n",
            "|    0008_02|         1|        1|    1|          2|34.0|  0|        0.0|      0.0|173.72916912197996|   0.0|              0.0|          1|\n",
            "|    0008_03|         1|        0|    1|          0|45.0|  0|       39.0|   7295.0|             589.0| 110.0|            124.0|          1|\n",
            "|    0009_01|         2|        0|    5|          2|32.0|  0|       73.0|      0.0|            1123.0|   0.0|            113.0|          1|\n",
            "|    0010_01|         0|        0|    6|          2|48.0|  0|      719.0|      1.0|              65.0|   0.0|             24.0|          0|\n",
            "|    0011_01|         0|        0|    5|          2|28.0|  0|        8.0|    974.0|              12.0|   2.0|              7.0|          1|\n",
            "|    0012_01|         0|        0|    5|          2|31.0|  0|       32.0|      0.0|             876.0|   0.0|              0.0|          0|\n",
            "|    0014_01|         2|        0|    5|          0|27.0|  0|     1286.0|    122.0|173.72916912197996|   0.0|              0.0|          0|\n",
            "|    0015_01|         0|        0|    5|          0|24.0|  0|        0.0|      1.0|               0.0|   0.0|            637.0|          0|\n",
            "|    0016_01|         2|        1|    5|          2|45.0|  0|        0.0|      0.0|               0.0|   0.0|              0.0|          1|\n",
            "|    0017_01|         0|        0|    6|          2| 0.0|  0|        0.0|      0.0|               0.0|   0.0|              0.0|          1|\n",
            "+-----------+----------+---------+-----+-----------+----+---+-----------+---------+------------------+------+-----------------+-----------+\n",
            "only showing top 20 rows\n",
            "\n"
          ]
        }
      ]
    },
    {
      "cell_type": "code",
      "source": [
        "df1.printSchema()        #printing the schema "
      ],
      "metadata": {
        "colab": {
          "base_uri": "https://localhost:8080/"
        },
        "id": "qq5ZLHJJdUGi",
        "outputId": "b5a5fa73-7e92-4902-f0c1-4efc491ad9ae"
      },
      "execution_count": null,
      "outputs": [
        {
          "output_type": "stream",
          "name": "stdout",
          "text": [
            "root\n",
            " |-- PassengerId: string (nullable = true)\n",
            " |-- HomePlanet: integer (nullable = true)\n",
            " |-- CryoSleep: integer (nullable = true)\n",
            " |-- Cabin: integer (nullable = true)\n",
            " |-- Destination: integer (nullable = true)\n",
            " |-- Age: double (nullable = true)\n",
            " |-- VIP: integer (nullable = true)\n",
            " |-- RoomService: double (nullable = true)\n",
            " |-- FoodCourt: double (nullable = true)\n",
            " |-- ShoppingMall: double (nullable = true)\n",
            " |-- Spa: double (nullable = true)\n",
            " |-- VRDeck: double (nullable = true)\n",
            " |-- Transported: integer (nullable = true)\n",
            "\n"
          ]
        }
      ]
    },
    {
      "cell_type": "code",
      "source": [
        "df1.columns"
      ],
      "metadata": {
        "id": "BW7gGHgzfdGX",
        "colab": {
          "base_uri": "https://localhost:8080/"
        },
        "outputId": "f4803cf4-1199-4f7a-8666-3eebc506e15a"
      },
      "execution_count": null,
      "outputs": [
        {
          "output_type": "execute_result",
          "data": {
            "text/plain": [
              "['PassengerId',\n",
              " 'HomePlanet',\n",
              " 'CryoSleep',\n",
              " 'Cabin',\n",
              " 'Destination',\n",
              " 'Age',\n",
              " 'VIP',\n",
              " 'RoomService',\n",
              " 'FoodCourt',\n",
              " 'ShoppingMall',\n",
              " 'Spa',\n",
              " 'VRDeck',\n",
              " 'Transported']"
            ]
          },
          "metadata": {},
          "execution_count": 30
        }
      ]
    },
    {
      "cell_type": "code",
      "source": [
        "from pyspark.sql.functions import isnull, when, count, col\n",
        "\n",
        "df1.select([count(when(isnull(c), c)).alias(c) for c in df1.columns]).show()"
      ],
      "metadata": {
        "colab": {
          "base_uri": "https://localhost:8080/"
        },
        "id": "huQRZAq2kP8x",
        "outputId": "73d83840-3166-4e57-fded-e8d69a8aa979"
      },
      "execution_count": null,
      "outputs": [
        {
          "output_type": "stream",
          "name": "stdout",
          "text": [
            "+-----------+----------+---------+-----+-----------+---+---+-----------+---------+------------+---+------+-----------+\n",
            "|PassengerId|HomePlanet|CryoSleep|Cabin|Destination|Age|VIP|RoomService|FoodCourt|ShoppingMall|Spa|VRDeck|Transported|\n",
            "+-----------+----------+---------+-----+-----------+---+---+-----------+---------+------------+---+------+-----------+\n",
            "|          0|         0|        0|    0|          0|  0|  0|          0|        0|           0|  0|     0|          0|\n",
            "+-----------+----------+---------+-----+-----------+---+---+-----------+---------+------------+---+------+-----------+\n",
            "\n"
          ]
        }
      ]
    },
    {
      "cell_type": "code",
      "source": [
        "df1.describe().toPandas().transpose()"
      ],
      "metadata": {
        "id": "unDE3WnDkWn4",
        "colab": {
          "base_uri": "https://localhost:8080/",
          "height": 488
        },
        "outputId": "898ccfa2-b0f8-44d5-845f-7b2078e7de93"
      },
      "execution_count": null,
      "outputs": [
        {
          "output_type": "execute_result",
          "data": {
            "text/plain": [
              "                  0                    1                    2        3  \\\n",
              "summary       count                 mean               stddev      min   \n",
              "PassengerId    8693                 None                 None  0001_01   \n",
              "HomePlanet     8693   0.6498331991257333   0.7951831125486745        0   \n",
              "CryoSleep      8693   0.3493615552743587    0.476795774290224        0   \n",
              "Cabin          8693    4.321292994363281   1.7608263715284282        0   \n",
              "Destination    8693   1.4943057632577936    0.814966433098883        0   \n",
              "Age            8693   28.790291038766824   14.341404200150102      0.0   \n",
              "VIP            8693  0.02289198205452663  0.14956775256042576        0   \n",
              "RoomService    8693    224.6876174812033    659.7393636011287      0.0   \n",
              "FoodCourt      8693   458.07720329024545   1594.4349779842014      0.0   \n",
              "ShoppingMall   8693    173.7291691219795    597.4174395331022      0.0   \n",
              "Spa            8693    311.1387779083436   1124.6758706306214      0.0   \n",
              "VRDeck         8693   304.85479129923596   1133.2590492346653      0.0   \n",
              "Transported    8693   0.5036236051995858   0.5000156298104962        0   \n",
              "\n",
              "                    4  \n",
              "summary           max  \n",
              "PassengerId   9280_02  \n",
              "HomePlanet          2  \n",
              "CryoSleep           1  \n",
              "Cabin               7  \n",
              "Destination         2  \n",
              "Age              79.0  \n",
              "VIP                 1  \n",
              "RoomService   14327.0  \n",
              "FoodCourt     29813.0  \n",
              "ShoppingMall  23492.0  \n",
              "Spa           22408.0  \n",
              "VRDeck        24133.0  \n",
              "Transported         1  "
            ],
            "text/html": [
              "\n",
              "  <div id=\"df-26fd2d79-375b-4fd9-89d1-54d49d846933\">\n",
              "    <div class=\"colab-df-container\">\n",
              "      <div>\n",
              "<style scoped>\n",
              "    .dataframe tbody tr th:only-of-type {\n",
              "        vertical-align: middle;\n",
              "    }\n",
              "\n",
              "    .dataframe tbody tr th {\n",
              "        vertical-align: top;\n",
              "    }\n",
              "\n",
              "    .dataframe thead th {\n",
              "        text-align: right;\n",
              "    }\n",
              "</style>\n",
              "<table border=\"1\" class=\"dataframe\">\n",
              "  <thead>\n",
              "    <tr style=\"text-align: right;\">\n",
              "      <th></th>\n",
              "      <th>0</th>\n",
              "      <th>1</th>\n",
              "      <th>2</th>\n",
              "      <th>3</th>\n",
              "      <th>4</th>\n",
              "    </tr>\n",
              "  </thead>\n",
              "  <tbody>\n",
              "    <tr>\n",
              "      <th>summary</th>\n",
              "      <td>count</td>\n",
              "      <td>mean</td>\n",
              "      <td>stddev</td>\n",
              "      <td>min</td>\n",
              "      <td>max</td>\n",
              "    </tr>\n",
              "    <tr>\n",
              "      <th>PassengerId</th>\n",
              "      <td>8693</td>\n",
              "      <td>None</td>\n",
              "      <td>None</td>\n",
              "      <td>0001_01</td>\n",
              "      <td>9280_02</td>\n",
              "    </tr>\n",
              "    <tr>\n",
              "      <th>HomePlanet</th>\n",
              "      <td>8693</td>\n",
              "      <td>0.6498331991257333</td>\n",
              "      <td>0.7951831125486745</td>\n",
              "      <td>0</td>\n",
              "      <td>2</td>\n",
              "    </tr>\n",
              "    <tr>\n",
              "      <th>CryoSleep</th>\n",
              "      <td>8693</td>\n",
              "      <td>0.3493615552743587</td>\n",
              "      <td>0.476795774290224</td>\n",
              "      <td>0</td>\n",
              "      <td>1</td>\n",
              "    </tr>\n",
              "    <tr>\n",
              "      <th>Cabin</th>\n",
              "      <td>8693</td>\n",
              "      <td>4.321292994363281</td>\n",
              "      <td>1.7608263715284282</td>\n",
              "      <td>0</td>\n",
              "      <td>7</td>\n",
              "    </tr>\n",
              "    <tr>\n",
              "      <th>Destination</th>\n",
              "      <td>8693</td>\n",
              "      <td>1.4943057632577936</td>\n",
              "      <td>0.814966433098883</td>\n",
              "      <td>0</td>\n",
              "      <td>2</td>\n",
              "    </tr>\n",
              "    <tr>\n",
              "      <th>Age</th>\n",
              "      <td>8693</td>\n",
              "      <td>28.790291038766824</td>\n",
              "      <td>14.341404200150102</td>\n",
              "      <td>0.0</td>\n",
              "      <td>79.0</td>\n",
              "    </tr>\n",
              "    <tr>\n",
              "      <th>VIP</th>\n",
              "      <td>8693</td>\n",
              "      <td>0.02289198205452663</td>\n",
              "      <td>0.14956775256042576</td>\n",
              "      <td>0</td>\n",
              "      <td>1</td>\n",
              "    </tr>\n",
              "    <tr>\n",
              "      <th>RoomService</th>\n",
              "      <td>8693</td>\n",
              "      <td>224.6876174812033</td>\n",
              "      <td>659.7393636011287</td>\n",
              "      <td>0.0</td>\n",
              "      <td>14327.0</td>\n",
              "    </tr>\n",
              "    <tr>\n",
              "      <th>FoodCourt</th>\n",
              "      <td>8693</td>\n",
              "      <td>458.07720329024545</td>\n",
              "      <td>1594.4349779842014</td>\n",
              "      <td>0.0</td>\n",
              "      <td>29813.0</td>\n",
              "    </tr>\n",
              "    <tr>\n",
              "      <th>ShoppingMall</th>\n",
              "      <td>8693</td>\n",
              "      <td>173.7291691219795</td>\n",
              "      <td>597.4174395331022</td>\n",
              "      <td>0.0</td>\n",
              "      <td>23492.0</td>\n",
              "    </tr>\n",
              "    <tr>\n",
              "      <th>Spa</th>\n",
              "      <td>8693</td>\n",
              "      <td>311.1387779083436</td>\n",
              "      <td>1124.6758706306214</td>\n",
              "      <td>0.0</td>\n",
              "      <td>22408.0</td>\n",
              "    </tr>\n",
              "    <tr>\n",
              "      <th>VRDeck</th>\n",
              "      <td>8693</td>\n",
              "      <td>304.85479129923596</td>\n",
              "      <td>1133.2590492346653</td>\n",
              "      <td>0.0</td>\n",
              "      <td>24133.0</td>\n",
              "    </tr>\n",
              "    <tr>\n",
              "      <th>Transported</th>\n",
              "      <td>8693</td>\n",
              "      <td>0.5036236051995858</td>\n",
              "      <td>0.5000156298104962</td>\n",
              "      <td>0</td>\n",
              "      <td>1</td>\n",
              "    </tr>\n",
              "  </tbody>\n",
              "</table>\n",
              "</div>\n",
              "      <button class=\"colab-df-convert\" onclick=\"convertToInteractive('df-26fd2d79-375b-4fd9-89d1-54d49d846933')\"\n",
              "              title=\"Convert this dataframe to an interactive table.\"\n",
              "              style=\"display:none;\">\n",
              "        \n",
              "  <svg xmlns=\"http://www.w3.org/2000/svg\" height=\"24px\"viewBox=\"0 0 24 24\"\n",
              "       width=\"24px\">\n",
              "    <path d=\"M0 0h24v24H0V0z\" fill=\"none\"/>\n",
              "    <path d=\"M18.56 5.44l.94 2.06.94-2.06 2.06-.94-2.06-.94-.94-2.06-.94 2.06-2.06.94zm-11 1L8.5 8.5l.94-2.06 2.06-.94-2.06-.94L8.5 2.5l-.94 2.06-2.06.94zm10 10l.94 2.06.94-2.06 2.06-.94-2.06-.94-.94-2.06-.94 2.06-2.06.94z\"/><path d=\"M17.41 7.96l-1.37-1.37c-.4-.4-.92-.59-1.43-.59-.52 0-1.04.2-1.43.59L10.3 9.45l-7.72 7.72c-.78.78-.78 2.05 0 2.83L4 21.41c.39.39.9.59 1.41.59.51 0 1.02-.2 1.41-.59l7.78-7.78 2.81-2.81c.8-.78.8-2.07 0-2.86zM5.41 20L4 18.59l7.72-7.72 1.47 1.35L5.41 20z\"/>\n",
              "  </svg>\n",
              "      </button>\n",
              "      \n",
              "  <style>\n",
              "    .colab-df-container {\n",
              "      display:flex;\n",
              "      flex-wrap:wrap;\n",
              "      gap: 12px;\n",
              "    }\n",
              "\n",
              "    .colab-df-convert {\n",
              "      background-color: #E8F0FE;\n",
              "      border: none;\n",
              "      border-radius: 50%;\n",
              "      cursor: pointer;\n",
              "      display: none;\n",
              "      fill: #1967D2;\n",
              "      height: 32px;\n",
              "      padding: 0 0 0 0;\n",
              "      width: 32px;\n",
              "    }\n",
              "\n",
              "    .colab-df-convert:hover {\n",
              "      background-color: #E2EBFA;\n",
              "      box-shadow: 0px 1px 2px rgba(60, 64, 67, 0.3), 0px 1px 3px 1px rgba(60, 64, 67, 0.15);\n",
              "      fill: #174EA6;\n",
              "    }\n",
              "\n",
              "    [theme=dark] .colab-df-convert {\n",
              "      background-color: #3B4455;\n",
              "      fill: #D2E3FC;\n",
              "    }\n",
              "\n",
              "    [theme=dark] .colab-df-convert:hover {\n",
              "      background-color: #434B5C;\n",
              "      box-shadow: 0px 1px 3px 1px rgba(0, 0, 0, 0.15);\n",
              "      filter: drop-shadow(0px 1px 2px rgba(0, 0, 0, 0.3));\n",
              "      fill: #FFFFFF;\n",
              "    }\n",
              "  </style>\n",
              "\n",
              "      <script>\n",
              "        const buttonEl =\n",
              "          document.querySelector('#df-26fd2d79-375b-4fd9-89d1-54d49d846933 button.colab-df-convert');\n",
              "        buttonEl.style.display =\n",
              "          google.colab.kernel.accessAllowed ? 'block' : 'none';\n",
              "\n",
              "        async function convertToInteractive(key) {\n",
              "          const element = document.querySelector('#df-26fd2d79-375b-4fd9-89d1-54d49d846933');\n",
              "          const dataTable =\n",
              "            await google.colab.kernel.invokeFunction('convertToInteractive',\n",
              "                                                     [key], {});\n",
              "          if (!dataTable) return;\n",
              "\n",
              "          const docLinkHtml = 'Like what you see? Visit the ' +\n",
              "            '<a target=\"_blank\" href=https://colab.research.google.com/notebooks/data_table.ipynb>data table notebook</a>'\n",
              "            + ' to learn more about interactive tables.';\n",
              "          element.innerHTML = '';\n",
              "          dataTable['output_type'] = 'display_data';\n",
              "          await google.colab.output.renderOutput(dataTable, element);\n",
              "          const docLink = document.createElement('div');\n",
              "          docLink.innerHTML = docLinkHtml;\n",
              "          element.appendChild(docLink);\n",
              "        }\n",
              "      </script>\n",
              "    </div>\n",
              "  </div>\n",
              "  "
            ]
          },
          "metadata": {},
          "execution_count": 32
        }
      ]
    },
    {
      "cell_type": "code",
      "source": [
        "titanic_df = df1.drop(\"PassengerId\",\"RoomService\",\"FoodCourt\",\"ShoppingMall\",\"Spa\",\"VRDeck\") #dropping all the unnecessary columns"
      ],
      "metadata": {
        "id": "7Lh47Ia_kbFg"
      },
      "execution_count": null,
      "outputs": []
    },
    {
      "cell_type": "code",
      "source": [
        "titanic_df.show()"
      ],
      "metadata": {
        "id": "B6ZmoE7glVZf",
        "colab": {
          "base_uri": "https://localhost:8080/"
        },
        "outputId": "998475a9-f189-4642-d1bc-c26f186cebba"
      },
      "execution_count": null,
      "outputs": [
        {
          "output_type": "stream",
          "name": "stdout",
          "text": [
            "+----------+---------+-----+-----------+----+---+-----------+\n",
            "|HomePlanet|CryoSleep|Cabin|Destination| Age|VIP|Transported|\n",
            "+----------+---------+-----+-----------+----+---+-----------+\n",
            "|         1|        0|    1|          2|39.0|  0|          0|\n",
            "|         0|        0|    5|          2|24.0|  0|          1|\n",
            "|         1|        0|    0|          2|58.0|  1|          0|\n",
            "|         1|        0|    0|          2|33.0|  0|          0|\n",
            "|         0|        0|    5|          2|16.0|  0|          1|\n",
            "|         0|        0|    5|          1|44.0|  0|          1|\n",
            "|         0|        0|    5|          2|26.0|  0|          1|\n",
            "|         0|        1|    6|          2|28.0|  0|          1|\n",
            "|         0|        0|    5|          2|35.0|  0|          1|\n",
            "|         1|        1|    1|          0|14.0|  0|          1|\n",
            "|         1|        1|    1|          2|34.0|  0|          1|\n",
            "|         1|        0|    1|          0|45.0|  0|          1|\n",
            "|         2|        0|    5|          2|32.0|  0|          1|\n",
            "|         0|        0|    6|          2|48.0|  0|          0|\n",
            "|         0|        0|    5|          2|28.0|  0|          1|\n",
            "|         0|        0|    5|          2|31.0|  0|          0|\n",
            "|         2|        0|    5|          0|27.0|  0|          0|\n",
            "|         0|        0|    5|          0|24.0|  0|          0|\n",
            "|         2|        1|    5|          2|45.0|  0|          1|\n",
            "|         0|        0|    6|          2| 0.0|  0|          1|\n",
            "+----------+---------+-----+-----------+----+---+-----------+\n",
            "only showing top 20 rows\n",
            "\n"
          ]
        }
      ]
    },
    {
      "cell_type": "code",
      "source": [
        "from pyspark.ml.feature import VectorAssembler\n",
        "\n",
        "from pyspark.ml.evaluation import RegressionEvaluator"
      ],
      "metadata": {
        "id": "R0Wu6sazlh1I"
      },
      "execution_count": null,
      "outputs": []
    },
    {
      "cell_type": "code",
      "source": [
        "feature = VectorAssembler(inputCols=['HomePlanet','Cabin','CryoSleep','Destination','Age','VIP'],outputCol=\"features\") #taking all the necessary columns and putting into the same vector\n",
        "feature_vector= feature.transform(titanic_df)"
      ],
      "metadata": {
        "id": "lh8KvanFlcn2"
      },
      "execution_count": null,
      "outputs": []
    },
    {
      "cell_type": "code",
      "source": [
        "feature_vector.show()"
      ],
      "metadata": {
        "id": "vDVRYj_pllL_",
        "colab": {
          "base_uri": "https://localhost:8080/"
        },
        "outputId": "ba5b6c29-2439-4ac2-b46a-b0160af9e524"
      },
      "execution_count": null,
      "outputs": [
        {
          "output_type": "stream",
          "name": "stdout",
          "text": [
            "+----------+---------+-----+-----------+----+---+-----------+--------------------+\n",
            "|HomePlanet|CryoSleep|Cabin|Destination| Age|VIP|Transported|            features|\n",
            "+----------+---------+-----+-----------+----+---+-----------+--------------------+\n",
            "|         1|        0|    1|          2|39.0|  0|          0|[1.0,1.0,0.0,2.0,...|\n",
            "|         0|        0|    5|          2|24.0|  0|          1|[0.0,5.0,0.0,2.0,...|\n",
            "|         1|        0|    0|          2|58.0|  1|          0|[1.0,0.0,0.0,2.0,...|\n",
            "|         1|        0|    0|          2|33.0|  0|          0|[1.0,0.0,0.0,2.0,...|\n",
            "|         0|        0|    5|          2|16.0|  0|          1|[0.0,5.0,0.0,2.0,...|\n",
            "|         0|        0|    5|          1|44.0|  0|          1|[0.0,5.0,0.0,1.0,...|\n",
            "|         0|        0|    5|          2|26.0|  0|          1|[0.0,5.0,0.0,2.0,...|\n",
            "|         0|        1|    6|          2|28.0|  0|          1|[0.0,6.0,1.0,2.0,...|\n",
            "|         0|        0|    5|          2|35.0|  0|          1|[0.0,5.0,0.0,2.0,...|\n",
            "|         1|        1|    1|          0|14.0|  0|          1|[1.0,1.0,1.0,0.0,...|\n",
            "|         1|        1|    1|          2|34.0|  0|          1|[1.0,1.0,1.0,2.0,...|\n",
            "|         1|        0|    1|          0|45.0|  0|          1|[1.0,1.0,0.0,0.0,...|\n",
            "|         2|        0|    5|          2|32.0|  0|          1|[2.0,5.0,0.0,2.0,...|\n",
            "|         0|        0|    6|          2|48.0|  0|          0|[0.0,6.0,0.0,2.0,...|\n",
            "|         0|        0|    5|          2|28.0|  0|          1|[0.0,5.0,0.0,2.0,...|\n",
            "|         0|        0|    5|          2|31.0|  0|          0|[0.0,5.0,0.0,2.0,...|\n",
            "|         2|        0|    5|          0|27.0|  0|          0|[2.0,5.0,0.0,0.0,...|\n",
            "|         0|        0|    5|          0|24.0|  0|          0|(6,[1,4],[5.0,24.0])|\n",
            "|         2|        1|    5|          2|45.0|  0|          1|[2.0,5.0,1.0,2.0,...|\n",
            "|         0|        0|    6|          2| 0.0|  0|          1| (6,[1,3],[6.0,2.0])|\n",
            "+----------+---------+-----+-----------+----+---+-----------+--------------------+\n",
            "only showing top 20 rows\n",
            "\n"
          ]
        }
      ]
    },
    {
      "cell_type": "code",
      "source": [
        "titanic_df.columns"
      ],
      "metadata": {
        "id": "jWvycdRho3BC",
        "colab": {
          "base_uri": "https://localhost:8080/"
        },
        "outputId": "5d4f72e3-7b5a-401d-d5c6-b40d131ec406"
      },
      "execution_count": null,
      "outputs": [
        {
          "output_type": "execute_result",
          "data": {
            "text/plain": [
              "['HomePlanet',\n",
              " 'CryoSleep',\n",
              " 'Cabin',\n",
              " 'Destination',\n",
              " 'Age',\n",
              " 'VIP',\n",
              " 'Transported']"
            ]
          },
          "metadata": {},
          "execution_count": 38
        }
      ]
    },
    {
      "cell_type": "markdown",
      "source": [
        "##  **1. LogisticRegression**"
      ],
      "metadata": {
        "id": "ylRsXJlrsCAu"
      }
    },
    {
      "cell_type": "code",
      "source": [
        "from pyspark.ml.classification import LogisticRegression\n",
        "from pyspark.ml import Pipeline\n"
      ],
      "metadata": {
        "id": "VaeuznM1nNb9"
      },
      "execution_count": null,
      "outputs": []
    },
    {
      "cell_type": "code",
      "source": [
        "lr = LogisticRegression(featuresCol='features',labelCol='Transported')"
      ],
      "metadata": {
        "id": "H-9zVYIhnORf"
      },
      "execution_count": null,
      "outputs": []
    },
    {
      "cell_type": "code",
      "source": [
        "pipeline = Pipeline(stages=[feature, lr]) #building pipeline "
      ],
      "metadata": {
        "id": "yOlvCHsYnSIs"
      },
      "execution_count": null,
      "outputs": []
    },
    {
      "cell_type": "code",
      "source": [
        "(trainingData, testData) = titanic_df.randomSplit([0.7, 0.3],seed = 9)"
      ],
      "metadata": {
        "id": "RUhP8yMUlsxP"
      },
      "execution_count": null,
      "outputs": []
    },
    {
      "cell_type": "code",
      "source": [
        "trainingData.tail(5)"
      ],
      "metadata": {
        "id": "yV4B6wwzoEiK",
        "colab": {
          "base_uri": "https://localhost:8080/"
        },
        "outputId": "babeadde-0a41-4d5f-ce57-48cf7af0fca2"
      },
      "execution_count": null,
      "outputs": [
        {
          "output_type": "execute_result",
          "data": {
            "text/plain": [
              "[Row(HomePlanet=2, CryoSleep=1, Cabin=5, Destination=2, Age=70.0, VIP=0, Transported=1),\n",
              " Row(HomePlanet=2, CryoSleep=1, Cabin=5, Destination=2, Age=70.0, VIP=0, Transported=1),\n",
              " Row(HomePlanet=2, CryoSleep=1, Cabin=5, Destination=2, Age=72.0, VIP=0, Transported=1),\n",
              " Row(HomePlanet=2, CryoSleep=1, Cabin=5, Destination=2, Age=75.0, VIP=0, Transported=1),\n",
              " Row(HomePlanet=2, CryoSleep=1, Cabin=5, Destination=2, Age=75.0, VIP=0, Transported=1)]"
            ]
          },
          "metadata": {},
          "execution_count": 43
        }
      ]
    },
    {
      "cell_type": "code",
      "source": [
        "lr_model = pipeline.fit(trainingData)"
      ],
      "metadata": {
        "id": "JqB-Y0qXnpjU"
      },
      "execution_count": null,
      "outputs": []
    },
    {
      "cell_type": "code",
      "source": [
        "from pyspark.ml.evaluation import MulticlassClassificationEvaluator\n"
      ],
      "metadata": {
        "id": "j8R2IgGOpRWC"
      },
      "execution_count": null,
      "outputs": []
    },
    {
      "cell_type": "code",
      "source": [
        "lr_predicition = lr_model.transform(testData)\n",
        "lr_predicition.select(\"prediction\", \"Transported\", \"features\").show()"
      ],
      "metadata": {
        "id": "qPW7A7dZpXZo",
        "colab": {
          "base_uri": "https://localhost:8080/"
        },
        "outputId": "12cd753a-42ac-40ad-9a07-029891214c39"
      },
      "execution_count": null,
      "outputs": [
        {
          "output_type": "stream",
          "name": "stdout",
          "text": [
            "+----------+-----------+--------------------+\n",
            "|prediction|Transported|            features|\n",
            "+----------+-----------+--------------------+\n",
            "|       1.0|          0|      (6,[4],[38.0])|\n",
            "|       0.0|          0|[0.0,1.0,0.0,2.0,...|\n",
            "|       0.0|          0|[0.0,1.0,0.0,2.0,...|\n",
            "|       1.0|          1|(6,[1,4],[2.0,18.0])|\n",
            "|       0.0|          1|[0.0,2.0,0.0,2.0,...|\n",
            "|       0.0|          1|[0.0,2.0,0.0,2.0,...|\n",
            "|       0.0|          0|[0.0,3.0,0.0,2.0,...|\n",
            "|       0.0|          0|(6,[1,4],[4.0,14.0])|\n",
            "|       0.0|          1|(6,[1,4],[4.0,14.0])|\n",
            "|       0.0|          1|(6,[1,4],[4.0,17.0])|\n",
            "|       0.0|          1|(6,[1,4],[4.0,18.0])|\n",
            "|       0.0|          1|(6,[1,4],[4.0,19.0])|\n",
            "|       0.0|          1|(6,[1,4],[4.0,22.0])|\n",
            "|       0.0|          1|(6,[1,4],[4.0,22.0])|\n",
            "|       0.0|          1|(6,[1,4],[4.0,24.0])|\n",
            "|       0.0|          0|(6,[1,4],[4.0,25.0])|\n",
            "|       0.0|          1|(6,[1,4],[4.0,25.0])|\n",
            "|       0.0|          1|(6,[1,4],[4.0,26.0])|\n",
            "|       0.0|          1|(6,[1,4],[4.0,29.0])|\n",
            "|       0.0|          1|(6,[1,4],[4.0,33.0])|\n",
            "+----------+-----------+--------------------+\n",
            "only showing top 20 rows\n",
            "\n"
          ]
        }
      ]
    },
    {
      "cell_type": "code",
      "source": [
        "from pyspark.ml.evaluation import BinaryClassificationEvaluator"
      ],
      "metadata": {
        "id": "JmErLlVkpe-R"
      },
      "execution_count": null,
      "outputs": []
    },
    {
      "cell_type": "code",
      "source": [
        "evaluator = MulticlassClassificationEvaluator(labelCol=\"Transported\", predictionCol=\"prediction\", metricName=\"accuracy\")"
      ],
      "metadata": {
        "id": "vn86z6HDp9_I"
      },
      "execution_count": null,
      "outputs": []
    },
    {
      "cell_type": "code",
      "source": [
        "auc = evaluator.evaluate(lr_predicition)\n",
        "auc"
      ],
      "metadata": {
        "id": "BFdB-3ZNphbY",
        "colab": {
          "base_uri": "https://localhost:8080/"
        },
        "outputId": "4af0bfd8-2668-466b-849c-b8b0ffb6304f"
      },
      "execution_count": null,
      "outputs": [
        {
          "output_type": "execute_result",
          "data": {
            "text/plain": [
              "0.7247104247104247"
            ]
          },
          "metadata": {},
          "execution_count": 49
        }
      ]
    },
    {
      "cell_type": "code",
      "source": [
        "lr_accuracy = evaluator.evaluate(lr_predicition)\n",
        "print(\"Accuracy of LogisticRegression is = %g\"% (lr_accuracy))\n",
        "print(\"Test Error of LogisticRegression = %g \" % (1.0 - lr_accuracy))"
      ],
      "metadata": {
        "id": "iFArUnRXtu8U",
        "colab": {
          "base_uri": "https://localhost:8080/"
        },
        "outputId": "e8c97ce5-5f1f-4138-aa30-52edca6246e7"
      },
      "execution_count": null,
      "outputs": [
        {
          "output_type": "stream",
          "name": "stdout",
          "text": [
            "Accuracy of LogisticRegression is = 0.72471\n",
            "Test Error of LogisticRegression = 0.27529 \n"
          ]
        }
      ]
    },
    {
      "cell_type": "markdown",
      "source": [
        "## **2. DecisionTree classifier**"
      ],
      "metadata": {
        "id": "eP7CWDPLr2Ie"
      }
    },
    {
      "cell_type": "code",
      "source": [
        "from pyspark.ml.classification import DecisionTreeClassifier\n",
        "dt = DecisionTreeClassifier(labelCol=\"Transported\", featuresCol=\"features\")\n"
      ],
      "metadata": {
        "id": "woUl9BL3qDh7"
      },
      "execution_count": null,
      "outputs": []
    },
    {
      "cell_type": "code",
      "source": [
        "pipeline2 = Pipeline(stages=[feature, dt])"
      ],
      "metadata": {
        "id": "IyHEjDbSqemQ"
      },
      "execution_count": null,
      "outputs": []
    },
    {
      "cell_type": "code",
      "source": [
        "dt_model = pipeline2.fit(trainingData)"
      ],
      "metadata": {
        "id": "ypzkQyi5qi1u"
      },
      "execution_count": null,
      "outputs": []
    },
    {
      "cell_type": "code",
      "source": [
        "dt_predictions = dt_model.transform(testData)\n",
        "dt_predictions.select(\"prediction\", \"Transported\", \"features\").show()"
      ],
      "metadata": {
        "id": "6VHxteKvqnV3",
        "colab": {
          "base_uri": "https://localhost:8080/"
        },
        "outputId": "9d8fd6ac-01cd-4449-d738-cda149a18698"
      },
      "execution_count": null,
      "outputs": [
        {
          "output_type": "stream",
          "name": "stdout",
          "text": [
            "+----------+-----------+--------------------+\n",
            "|prediction|Transported|            features|\n",
            "+----------+-----------+--------------------+\n",
            "|       0.0|          0|      (6,[4],[38.0])|\n",
            "|       0.0|          0|[0.0,1.0,0.0,2.0,...|\n",
            "|       0.0|          0|[0.0,1.0,0.0,2.0,...|\n",
            "|       0.0|          1|(6,[1,4],[2.0,18.0])|\n",
            "|       0.0|          1|[0.0,2.0,0.0,2.0,...|\n",
            "|       0.0|          1|[0.0,2.0,0.0,2.0,...|\n",
            "|       0.0|          0|[0.0,3.0,0.0,2.0,...|\n",
            "|       0.0|          0|(6,[1,4],[4.0,14.0])|\n",
            "|       0.0|          1|(6,[1,4],[4.0,14.0])|\n",
            "|       0.0|          1|(6,[1,4],[4.0,17.0])|\n",
            "|       0.0|          1|(6,[1,4],[4.0,18.0])|\n",
            "|       0.0|          1|(6,[1,4],[4.0,19.0])|\n",
            "|       0.0|          1|(6,[1,4],[4.0,22.0])|\n",
            "|       0.0|          1|(6,[1,4],[4.0,22.0])|\n",
            "|       0.0|          1|(6,[1,4],[4.0,24.0])|\n",
            "|       0.0|          0|(6,[1,4],[4.0,25.0])|\n",
            "|       0.0|          1|(6,[1,4],[4.0,25.0])|\n",
            "|       0.0|          1|(6,[1,4],[4.0,26.0])|\n",
            "|       0.0|          1|(6,[1,4],[4.0,29.0])|\n",
            "|       0.0|          1|(6,[1,4],[4.0,33.0])|\n",
            "+----------+-----------+--------------------+\n",
            "only showing top 20 rows\n",
            "\n"
          ]
        }
      ]
    },
    {
      "cell_type": "code",
      "source": [
        "dt_accuracy = evaluator.evaluate(dt_predictions)\n",
        "print(\"Accuracy of DecisionTreeClassifier is = %g\"% (dt_accuracy))\n",
        "print(\"Test Error of DecisionTreeClassifier = %g \" % (1.0 - dt_accuracy))"
      ],
      "metadata": {
        "id": "aPwSDU7oro9U",
        "colab": {
          "base_uri": "https://localhost:8080/"
        },
        "outputId": "fa6cacf3-8c52-4a14-ed30-c0789a963765"
      },
      "execution_count": null,
      "outputs": [
        {
          "output_type": "stream",
          "name": "stdout",
          "text": [
            "Accuracy of DecisionTreeClassifier is = 0.746718\n",
            "Test Error of DecisionTreeClassifier = 0.253282 \n"
          ]
        }
      ]
    },
    {
      "cell_type": "markdown",
      "source": [
        "## **3.Random Forest classifier**"
      ],
      "metadata": {
        "id": "kO8sumrYtA4m"
      }
    },
    {
      "cell_type": "code",
      "source": [
        "from pyspark.ml.classification import RandomForestClassifier\n",
        "rf = RandomForestClassifier(labelCol=\"Transported\", featuresCol=\"features\",maxDepth=7)\n",
        "\n",
        "pipeline3 = Pipeline(stages=[feature, rf])\n",
        "rf_model = pipeline3.fit(trainingData)\n",
        "\n"
      ],
      "metadata": {
        "id": "erKla6whtFeC"
      },
      "execution_count": null,
      "outputs": []
    },
    {
      "cell_type": "code",
      "source": [
        "rf_predictions = rf_model.transform(testData)\n",
        "rf_predictions.select(\"prediction\", \"Transported\", \"features\").show()"
      ],
      "metadata": {
        "id": "Pr9a0rqqtcqB",
        "colab": {
          "base_uri": "https://localhost:8080/"
        },
        "outputId": "8ffbc1ec-befe-4021-d783-95b935b72405"
      },
      "execution_count": null,
      "outputs": [
        {
          "output_type": "stream",
          "name": "stdout",
          "text": [
            "+----------+-----------+--------------------+\n",
            "|prediction|Transported|            features|\n",
            "+----------+-----------+--------------------+\n",
            "|       0.0|          0|      (6,[4],[38.0])|\n",
            "|       0.0|          0|[0.0,1.0,0.0,2.0,...|\n",
            "|       0.0|          0|[0.0,1.0,0.0,2.0,...|\n",
            "|       1.0|          1|(6,[1,4],[2.0,18.0])|\n",
            "|       0.0|          1|[0.0,2.0,0.0,2.0,...|\n",
            "|       0.0|          1|[0.0,2.0,0.0,2.0,...|\n",
            "|       0.0|          0|[0.0,3.0,0.0,2.0,...|\n",
            "|       0.0|          0|(6,[1,4],[4.0,14.0])|\n",
            "|       0.0|          1|(6,[1,4],[4.0,14.0])|\n",
            "|       0.0|          1|(6,[1,4],[4.0,17.0])|\n",
            "|       0.0|          1|(6,[1,4],[4.0,18.0])|\n",
            "|       0.0|          1|(6,[1,4],[4.0,19.0])|\n",
            "|       0.0|          1|(6,[1,4],[4.0,22.0])|\n",
            "|       0.0|          1|(6,[1,4],[4.0,22.0])|\n",
            "|       0.0|          1|(6,[1,4],[4.0,24.0])|\n",
            "|       0.0|          0|(6,[1,4],[4.0,25.0])|\n",
            "|       0.0|          1|(6,[1,4],[4.0,25.0])|\n",
            "|       0.0|          1|(6,[1,4],[4.0,26.0])|\n",
            "|       0.0|          1|(6,[1,4],[4.0,29.0])|\n",
            "|       0.0|          1|(6,[1,4],[4.0,33.0])|\n",
            "+----------+-----------+--------------------+\n",
            "only showing top 20 rows\n",
            "\n"
          ]
        }
      ]
    },
    {
      "cell_type": "code",
      "source": [
        "rf_accuracy = evaluator.evaluate(rf_predictions)\n",
        "print(\"Accuracy of RandomForestClassifier is = %g\"% (rf_accuracy))\n",
        "print(\"Test Error of RandomForestClassifier  = %g \" % (1.0 - rf_accuracy))"
      ],
      "metadata": {
        "id": "Rcvz5Citthuh",
        "colab": {
          "base_uri": "https://localhost:8080/"
        },
        "outputId": "dde19fee-7012-43c4-bf69-3dd5bc97de84"
      },
      "execution_count": null,
      "outputs": [
        {
          "output_type": "stream",
          "name": "stdout",
          "text": [
            "Accuracy of RandomForestClassifier is = 0.747104\n",
            "Test Error of RandomForestClassifier  = 0.252896 \n"
          ]
        }
      ]
    },
    {
      "cell_type": "markdown",
      "source": [
        "## **4. Gradient Boostclassifier**"
      ],
      "metadata": {
        "id": "Dddw9q_I5BEw"
      }
    },
    {
      "cell_type": "code",
      "source": [
        "from pyspark.ml.classification import GBTClassifier\n",
        "gbt = GBTClassifier(labelCol=\"Transported\", featuresCol=\"features\",maxIter=10)\n",
        "pipeline4 = Pipeline(stages=[feature, gbt])\n"
      ],
      "metadata": {
        "id": "eGUTqi9L24uF"
      },
      "execution_count": null,
      "outputs": []
    },
    {
      "cell_type": "code",
      "source": [
        "gbt_model = pipeline4.fit(trainingData)\n",
        "gbt_prediction = gbt_model.transform(testData)\n",
        "gbt_prediction.select(\"prediction\", \"Transported\", \"features\").show()"
      ],
      "metadata": {
        "colab": {
          "base_uri": "https://localhost:8080/"
        },
        "id": "hxuk_Js43CR8",
        "outputId": "8f9530db-e921-4501-facf-70680dc2a626"
      },
      "execution_count": null,
      "outputs": [
        {
          "output_type": "stream",
          "name": "stdout",
          "text": [
            "+----------+-----------+--------------------+\n",
            "|prediction|Transported|            features|\n",
            "+----------+-----------+--------------------+\n",
            "|       1.0|          0|      (6,[4],[38.0])|\n",
            "|       0.0|          0|[0.0,1.0,0.0,2.0,...|\n",
            "|       0.0|          0|[0.0,1.0,0.0,2.0,...|\n",
            "|       1.0|          1|(6,[1,4],[2.0,18.0])|\n",
            "|       0.0|          1|[0.0,2.0,0.0,2.0,...|\n",
            "|       0.0|          1|[0.0,2.0,0.0,2.0,...|\n",
            "|       0.0|          0|[0.0,3.0,0.0,2.0,...|\n",
            "|       0.0|          0|(6,[1,4],[4.0,14.0])|\n",
            "|       0.0|          1|(6,[1,4],[4.0,14.0])|\n",
            "|       0.0|          1|(6,[1,4],[4.0,17.0])|\n",
            "|       0.0|          1|(6,[1,4],[4.0,18.0])|\n",
            "|       0.0|          1|(6,[1,4],[4.0,19.0])|\n",
            "|       0.0|          1|(6,[1,4],[4.0,22.0])|\n",
            "|       0.0|          1|(6,[1,4],[4.0,22.0])|\n",
            "|       0.0|          1|(6,[1,4],[4.0,24.0])|\n",
            "|       0.0|          0|(6,[1,4],[4.0,25.0])|\n",
            "|       0.0|          1|(6,[1,4],[4.0,25.0])|\n",
            "|       0.0|          1|(6,[1,4],[4.0,26.0])|\n",
            "|       0.0|          1|(6,[1,4],[4.0,29.0])|\n",
            "|       0.0|          1|(6,[1,4],[4.0,33.0])|\n",
            "+----------+-----------+--------------------+\n",
            "only showing top 20 rows\n",
            "\n"
          ]
        }
      ]
    },
    {
      "cell_type": "code",
      "source": [
        "\n",
        "gbt_accuracy = evaluator.evaluate(gbt_prediction)\n",
        "print(\"Accuracy of Gradient-boosted tree classifier is = %g\"% (gbt_accuracy))\n",
        "print(\"Test Error of Gradient-boosted tree classifier %g\"% (1.0 - gbt_accuracy))"
      ],
      "metadata": {
        "colab": {
          "base_uri": "https://localhost:8080/"
        },
        "id": "Kscv5WSD3W30",
        "outputId": "b6129c72-33d1-4662-dd70-2ace0f183c7b"
      },
      "execution_count": null,
      "outputs": [
        {
          "output_type": "stream",
          "name": "stdout",
          "text": [
            "Accuracy of Gradient-boosted tree classifie is = 0.72471\n",
            "Test Error of Gradient-boosted tree classifie 0.27529\n"
          ]
        }
      ]
    }
  ]
}